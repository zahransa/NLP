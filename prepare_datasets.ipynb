{
 "cells": [
  {
   "cell_type": "code",
   "execution_count": 5,
   "id": "924a256a-71ec-418f-a7e9-051ccc4a5a74",
   "metadata": {},
   "outputs": [
    {
     "name": "stderr",
     "output_type": "stream",
     "text": [
      "Special tokens have been added in the vocabulary, make sure the associated word embeddings are fine-tuned or trained.\n"
     ]
    }
   ],
   "source": [
    "# prepare_dataset.py\n",
    "\n",
    "import json\n",
    "from transformers import CamembertTokenizer\n",
    "import torch\n",
    "\n",
    "# Load the dataset\n",
    "texts = [\n",
    "    \"Le patient se plaint de fatigue et de maux de tête.\",\n",
    "    \"Il a de la fièvre et des frissons.\",\n",
    "    \"Elle ressent des douleurs abdominales et des nausées.\"\n",
    "]\n",
    "\n",
    "labels = [\n",
    "    [\"O\", \"O\", \"O\", \"O\", \"B-SYMPTOM\", \"O\", \"O\", \"B-SYMPTOM\", \"I-SYMPTOM\", \"I-SYMPTOM\", \"O\"],\n",
    "    [\"O\", \"O\", \"O\", \"O\", \"B-SYMPTOM\", \"O\", \"O\", \"B-SYMPTOM\", \"O\"],\n",
    "    [\"O\", \"O\", \"B-SYMPTOM\", \"I-SYMPTOM\", \"O\", \"O\", \"B-SYMPTOM\", \"O\"]\n",
    "]\n",
    "\n",
    "# Load the tokenizer\n",
    "tokenizer = CamembertTokenizer.from_pretrained(\"camembert-base\")\n",
    "\n",
    "# Define label mapping\n",
    "tag_values = [\"O\", \"B-SYMPTOM\", \"I-SYMPTOM\"]\n",
    "tag2idx = {t: i for i, t in enumerate(tag_values)}\n",
    "\n",
    "# Tokenize the input texts and adjust label encoding\n",
    "tokenized_texts = []\n",
    "adjusted_labels = []\n",
    "\n",
    "for text, doc_labels in zip(texts, labels):\n",
    "    # Tokenize the text without returning offsets mapping\n",
    "    tokenized_text = tokenizer(text, is_split_into_words=True)[\"input_ids\"]\n",
    "    tokenized_texts.append(tokenized_text)\n",
    "    \n",
    "    # Adjust label encoding\n",
    "    adjusted_doc_labels = []\n",
    "    for i, token_id in enumerate(tokenized_text):\n",
    "        # Check if the token is a special token (CLS, SEP)\n",
    "        if i == 0 or i == len(tokenized_text) - 1:\n",
    "            adjusted_doc_labels.append(-100)  # Special tokens are ignored during training\n",
    "        else:\n",
    "            # Access the label only if it's a valid index\n",
    "            adjusted_doc_labels.append(tag2idx[doc_labels[min(i-1, len(doc_labels)-1)]])\n",
    "    adjusted_labels.append(adjusted_doc_labels)\n",
    "\n",
    "# Save the tokenized texts and adjusted labels\n",
    "torch.save(tokenized_texts, \"tokenized_texts.pt\")\n",
    "torch.save(adjusted_labels, \"adjusted_labels.pt\")\n",
    "\n",
    "# Save the original texts and labels\n",
    "with open(\"dataset.json\", \"w\") as f:\n",
    "    json.dump({\"texts\": texts, \"labels\": labels}, f)\n"
   ]
  },
  {
   "cell_type": "code",
   "execution_count": null,
   "id": "593deda2-b057-4b2f-9e19-007495eaed4a",
   "metadata": {},
   "outputs": [],
   "source": []
  }
 ],
 "metadata": {
  "kernelspec": {
   "display_name": "Python 3 (ipykernel)",
   "language": "python",
   "name": "python3"
  },
  "language_info": {
   "codemirror_mode": {
    "name": "ipython",
    "version": 3
   },
   "file_extension": ".py",
   "mimetype": "text/x-python",
   "name": "python",
   "nbconvert_exporter": "python",
   "pygments_lexer": "ipython3",
   "version": "3.11.7"
  }
 },
 "nbformat": 4,
 "nbformat_minor": 5
}
